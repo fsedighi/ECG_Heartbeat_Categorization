{
  "cells": [
    {
      "cell_type": "code",
      "source": [
        "from google.colab import files\n",
        "from google.colab import drive\n",
        "drive.mount('/content/drive')"
      ],
      "metadata": {
        "colab": {
          "base_uri": "https://localhost:8080/"
        },
        "id": "H_zbUbAQDapW",
        "outputId": "92106e70-8ca8-4b62-8bad-02c92949cd53"
      },
      "execution_count": 1,
      "outputs": [
        {
          "output_type": "stream",
          "name": "stdout",
          "text": [
            "Drive already mounted at /content/drive; to attempt to forcibly remount, call drive.mount(\"/content/drive\", force_remount=True).\n"
          ]
        }
      ]
    },
    {
      "cell_type": "code",
      "source": [
        "!cp /content/drive/MyDrive/ECG_Heartbeat_Categorization/Utils/DataUtils/DataImputation.py /content\n",
        "!cp /content/drive/MyDrive/ECG_Heartbeat_Categorization/Utils/DataUtils/DataLoader.py /content\n",
        "!cp /content/drive/MyDrive/ECG_Heartbeat_Categorization/Utils/DataUtils/DataProcessing.py /content\n",
        "!cp /content/drive/MyDrive/ECG_Heartbeat_Categorization/Utils/DataUtils/DataAnalysing.py /content\n",
        "!cp /content/drive/MyDrive/ECG_Heartbeat_Categorization/DeepLearning/TransformerBasedModel.py /content\n",
        "!cp /content/drive/MyDrive/ECG_Heartbeat_Categorization/Utils/TrainingUtils.py /content\n",
        "!cp /content/drive/MyDrive/ECG_Heartbeat_Categorization/Utils/EvaluationUtils.py /content"
      ],
      "metadata": {
        "id": "uOSWqsWnDam3"
      },
      "execution_count": 2,
      "outputs": []
    },
    {
      "cell_type": "markdown",
      "metadata": {
        "id": "mdtB5cTfDZKg"
      },
      "source": [
        "**Hello. In this notebook, I will explain the steps I have taken for the <mark>training-testing</mark> and the reasoning behind them. I will also provide references that have helped me make decisions and choose these approaches. Thank you for taking the time to review the uploaded files and for providing this opportunity.**"
      ]
    },
    {
      "cell_type": "code",
      "execution_count": 3,
      "metadata": {
        "id": "Lac7yccFDZKi"
      },
      "outputs": [],
      "source": [
        "# Importing requred libraries and modules\n",
        "import numpy as np\n",
        "from DataImputation import impute_missing_values\n",
        "from DataLoader import ECGDataLoader\n",
        "import DataProcessing as data_processing\n",
        "import DataAnalysing as data_analysing\n",
        "import TransformerBasedModel as transformer_based_model\n",
        "from TrainingUtils import train_model, hyperparameter_tuning\n",
        "from EvaluationUtils import show_learning_curves, create_confusion_matrix, metrics_calculation\n",
        "from tensorflow import keras\n",
        "from tensorflow.keras import layers\n",
        "from sklearn.model_selection import train_test_split"
      ]
    },
    {
      "cell_type": "code",
      "execution_count": 4,
      "metadata": {
        "id": "b8aP8eryDZKj"
      },
      "outputs": [],
      "source": [
        "# Create an instance of ECGDataLoader\n",
        "train_data_loader = ECGDataLoader('/content/drive/MyDrive/ECG/mitbih_train.csv')\n",
        "test_data_loader = ECGDataLoader('/content/drive/MyDrive/ECG/mitbih_test.csv')\n",
        "\n",
        "# Load the ECG dataset from the CSV file\n",
        "train_data_loader.load_ecg_dataset_csv()\n",
        "test_data_loader.load_ecg_dataset_csv()\n",
        "\n",
        "# Get the dataset\n",
        "train_data = train_data_loader.get_dataset()\n",
        "test_data = test_data_loader.get_dataset()"
      ]
    },
    {
      "cell_type": "markdown",
      "source": [
        "\n",
        "To address the issue of class imbalance in the dataset, data augmentation has been applied to categories 1, 2, 3, and 4, with the factor of 5. The purpose of this augmentation is to create a more balanced dataset, as there is a significant disparity in the number of samples across categories. By augmenting the data in these categories, we aim to ensure a more equitable representation and enhance the model's performance and accuracy for each category."
      ],
      "metadata": {
        "id": "DsNqeMxW5Mv7"
      }
    },
    {
      "cell_type": "code",
      "execution_count": 5,
      "metadata": {
        "id": "SkpsDZ4yDZKk"
      },
      "outputs": [],
      "source": [
        "# Apply imputation to address missing data\n",
        "train_data = impute_missing_values(train_data, method='forward')\n",
        "test_data = impute_missing_values(test_data, method='forward')\n",
        "\n",
        "# # Split the data into train and holdout data\n",
        "train_data, holdout_data = train_test_split(train_data, test_size=0.1, random_state=42, stratify=train_data.iloc[:, -1])\n",
        "\n",
        "train_data = data_processing.augment_dataset(train_data, augmentation_factor= 5)\n",
        "holdout_data = data_processing.add_noise_dataset(holdout_data, level = 0.02)\n",
        "\n",
        "x_train, y_train = train_data.iloc[:, :-1].values, train_data.iloc[:, -1].values\n",
        "x_test, y_test = test_data.iloc[:, :-1].values, test_data.iloc[:, -1].values\n",
        "x_holdout, y_holdout = holdout_data.iloc[:, :-1].values, holdout_data.iloc[:, -1].values\n",
        "\n",
        "x_train = x_train.reshape((x_train.shape[0], x_train.shape[1], 1))\n",
        "x_test = x_test.reshape((x_test.shape[0], x_test.shape[1], 1))\n",
        "x_holdout = x_holdout.reshape((x_holdout.shape[0], x_holdout.shape[1], 1))\n",
        "\n",
        "idx = np.random.permutation(len(x_train))\n",
        "x_train = x_train[idx]\n",
        "y_train = y_train[idx]"
      ]
    },
    {
      "cell_type": "markdown",
      "metadata": {
        "id": "6bPDS12rDZKk"
      },
      "source": [
        "<mark>Model Selection</mark>\n",
        "\n",
        "Refernces:\n",
        "\n",
        "1. [Arrhythmia classification algorithm based on multi-head\n",
        "self-attention mechanism](https://www.sciencedirect.com/science/article/pii/S1746809422006607)\n",
        "2. [Timeseries classification with a Transformer model](https://keras.io/examples/timeseries/timeseries_classification_transformer/)\n",
        "3. [Implemented in Huggingface](https://huggingface.co/keras-io/timeseries_transformer_classification)\n",
        "\n",
        "\n",
        "The paper cited here provides an example of using multi-head self-attention mechanism for heartbeat classification, which is a challenging task due to the variability and noise in ECG signals. The paper reports that the model achieved 99.4% accuracy, outperforming other baseline models such as LSTM, CNN, and SVM. This shows that attention based models can handle complex and noisy data and provide high-quality classification results. \n",
        "\n",
        "Transformer based models are using the attention mechanism, which allows them to capture the long-range dependencies and contextual information in the input data. This can improve the performance and accuracy of the classification task, especially for complex and high-dimensional data.\n",
        "\n",
        "Transformer based models have been shown to achieve state-of-the-art results in various natural language processing and computer vision tasks, such as machine translation, text summarization, image captioning, and object detection. This demonstrates their versatility and generalizability for different types of classification tasks.\n",
        "\n",
        "Transformer based model can leverage the existing pre-trained models and fine-tune them for the ECG signal classification task, which can save the training time and data resources.\n",
        "\n",
        "Transformer based models are known for their complex architecture, making it challenging to interpret the decision-making process.\n",
        "\n",
        "\n",
        "Based on these points, a transformer based model is a suitable and effective choice for a classification task.\n",
        "\n",
        "The model utilized in this context is also available in Hugging Face, where it has been pre-trained on different dataset. Users have the flexibility to load and fine-tune these models according to their specific tasks, thereby leveraging the advantages of transfer learning.\n",
        "\n"
      ]
    },
    {
      "cell_type": "markdown",
      "source": [
        "<mark>Hyperparameters tuning</mark>\n",
        "\n",
        "\n",
        "Hyperparameter tuning is an essential step in optimizing machine learning models. It involves finding the best combination of hyperparameters that maximize the performance of a model on a given task. One approach to perform hyperparameter tuning is by using GridSearchCV, which searches through a specified grid of hyperparameters to find the optimal values. A model wrapper function is then created that allows to specify the hyperparameters need to be tuned. The model wrapper function acts as an interface between the scikit-learn's GridSearchCV and the model. The function has been writen in the training utils.\n",
        "\n",
        "Below, you can see how the hyperparameter_tuning function searches for the more effective learning_rate. \n",
        "\n",
        "Some hyperparapeters related to the model's architecture were chosen based on Hugging Face's successful implementation in similar tasks, indicating their effectiveness in capturing complex patterns and improving model performance. \n",
        "\n",
        "It is also important to use insights gained from the learning curve analysis. The learning curve provides valuable insights into how the model's performance evolved with different values of these hyperparameters.\n",
        "\n",
        "Choosing a small learning rate and training for more epochs can improve model convergence, generalization, and robustness to noise. However, it also increases training time and the risk of overfitting. Proper hyperparameter tuning, regularization techniques and monitoring the training process are crucial in this approach."
      ],
      "metadata": {
        "id": "aB89aW4q5quD"
      }
    },
    {
      "cell_type": "code",
      "source": [
        "hyperparameters = {\n",
        "    'learning_rate': [1e-5, 1e-4]\n",
        "}\n",
        "best_model, best_params = hyperparameter_tuning(x_train, y_train, hyperparameters = hyperparameters)"
      ],
      "metadata": {
        "colab": {
          "base_uri": "https://localhost:8080/"
        },
        "id": "Oo9-mqP8UFlQ",
        "outputId": "1a17ccb5-ace2-44b1-f809-56cbaba73f7a"
      },
      "execution_count": 7,
      "outputs": [
        {
          "output_type": "stream",
          "name": "stdout",
          "text": [
            "2513/2513 [==============================] - 77s 25ms/step - loss: 1.2910 - accuracy: 0.4874\n",
            "629/629 [==============================] - 6s 9ms/step - loss: 1.1089 - accuracy: 0.6547\n",
            "2513/2513 [==============================] - 77s 25ms/step - loss: 1.2826 - accuracy: 0.5315\n",
            "629/629 [==============================] - 6s 9ms/step - loss: 1.1039 - accuracy: 0.6379\n",
            "2513/2513 [==============================] - 77s 25ms/step - loss: 1.2489 - accuracy: 0.5176\n",
            "629/629 [==============================] - 7s 9ms/step - loss: 1.0735 - accuracy: 0.6393\n",
            "2513/2513 [==============================] - 77s 25ms/step - loss: 1.2418 - accuracy: 0.5429\n",
            "629/629 [==============================] - 6s 9ms/step - loss: 1.0737 - accuracy: 0.6438\n",
            "2513/2513 [==============================] - 77s 26ms/step - loss: 1.2876 - accuracy: 0.5165\n",
            "629/629 [==============================] - 6s 9ms/step - loss: 1.1031 - accuracy: 0.6525\n",
            "2513/2513 [==============================] - 78s 25ms/step - loss: 0.8874 - accuracy: 0.6717\n",
            "629/629 [==============================] - 6s 9ms/step - loss: 0.6413 - accuracy: 0.7889\n",
            "2513/2513 [==============================] - 77s 25ms/step - loss: 0.8661 - accuracy: 0.6845\n",
            "629/629 [==============================] - 6s 9ms/step - loss: 0.6485 - accuracy: 0.7640\n",
            "2513/2513 [==============================] - 78s 25ms/step - loss: 0.8398 - accuracy: 0.6982\n",
            "629/629 [==============================] - 6s 9ms/step - loss: 0.6211 - accuracy: 0.7925\n",
            "2513/2513 [==============================] - 77s 26ms/step - loss: 0.8694 - accuracy: 0.6869\n",
            "629/629 [==============================] - 6s 9ms/step - loss: 0.6396 - accuracy: 0.7869\n",
            "2513/2513 [==============================] - 78s 26ms/step - loss: 0.8510 - accuracy: 0.6951\n",
            "629/629 [==============================] - 6s 9ms/step - loss: 0.6436 - accuracy: 0.7721\n",
            "3141/3141 [==============================] - 94s 26ms/step - loss: 0.8168 - accuracy: 0.7066\n"
          ]
        }
      ]
    },
    {
      "cell_type": "code",
      "source": [
        "print(best_params)"
      ],
      "metadata": {
        "colab": {
          "base_uri": "https://localhost:8080/"
        },
        "id": "KfXHRUWWErlR",
        "outputId": "f25c5d27-b9de-4861-b686-293070076cd0"
      },
      "execution_count": 8,
      "outputs": [
        {
          "output_type": "stream",
          "name": "stdout",
          "text": [
            "{'learning_rate': 0.0001}\n"
          ]
        }
      ]
    },
    {
      "cell_type": "markdown",
      "source": [
        "<mark>Overfitting and under fitting</mark>\n",
        "\n",
        "**Ways to tackle these issues:**\n",
        "\n",
        "Overfitting:\n",
        "\n",
        "1. Regularization: This technique adds a penalty term to the loss function that penalizes complex models that are prone to overfitting. This helps to limit the model complexity and prevent overfitting.\n",
        "2. Dropout: This technique randomly drops out some neurons during training, preventing the model from relying too much on specific features or neurons. It helps to generalize the model by reducing overfitting.\n",
        "3. Early stopping: This technique stops the training early if the validation error starts to increase, indicating that the model is over-optimizing on the training data. This prevents the model from overfitting.\n",
        "4. Data augmentation: This technique increases the size of the training data by applying some transformations, such as rotation, scaling, or noise addition. This helps to reduce overfitting by exposing the model to more variations in the data.\n",
        "\n",
        "Underfitting:\n",
        "1. Increase model complexity: If the model is too simple and has low capacity to learn from the data, it may result in underfitting. You can increase the model complexity by adding more layers, units, or architectures to capture more complex patterns in the data.\n",
        "2. Feature engineering: Carefully selecting and engineering relevant features can improve the model's ability to learn and avoid underfitting. This involves domain knowledge and understanding of the problem.\n",
        "3. Increase training data: Insufficient training data can lead to underfitting. Gathering more data or using data augmentation techniques can help the model to learn better representations and improve performance.\n",
        "\n",
        "Hyperparameter tuning and using ensemble learning can also help to address these challenge."
      ],
      "metadata": {
        "id": "C-OuVTOt52GO"
      }
    },
    {
      "cell_type": "markdown",
      "source": [
        "<mark>Early stopping and training callbacks</mark>\n",
        "\n",
        "\n",
        "Callbacks are special functions that are executed at certain points during the training process of a machine learning model. \n",
        "\n",
        "Some callbacks functions:\n",
        "1. Model checkpointing: Saving the best model weights during training based on certain criteria, such as the validation loss or accuracy.\n",
        "2. Learning rate scheduling: Dynamically adjusting the learning rate during training.\n",
        "3. Early stopping which has been implemented in this project which prevents overfitting by stopping the training process when the model's performance on a validation set starts to deteriorate.\n",
        "\n",
        "\n",
        "as the model continues to train, it may start to overfit the training data, leading to poor generalization on unseen data. Early stopping works by monitoring a specified metric, such as validation loss or accuracy, over a certain number of epochs. If the metric does not improve within a predefined number of epochs (patience), training is stopped, and the model with the best performance on the validation set is typically saved.\n"
      ],
      "metadata": {
        "id": "6maLm-Ua7b1v"
      }
    },
    {
      "cell_type": "code",
      "source": [
        "model, history = train_model(x_train, y_train, epochs=200, patience=10, learning_rate=1e-4)"
      ],
      "metadata": {
        "colab": {
          "base_uri": "https://localhost:8080/"
        },
        "id": "s_x6bMsDFEx-",
        "outputId": "858ef8eb-2a04-4fba-ed61-47e3b220d8a6"
      },
      "execution_count": null,
      "outputs": [
        {
          "output_type": "stream",
          "name": "stdout",
          "text": [
            "Epoch 1/200\n",
            "2513/2513 [==============================] - 86s 28ms/step - loss: 0.8840 - accuracy: 0.6808 - val_loss: 0.6403 - val_accuracy: 0.7837\n",
            "Epoch 2/200\n",
            "2513/2513 [==============================] - 69s 28ms/step - loss: 0.6051 - accuracy: 0.7935 - val_loss: 0.5073 - val_accuracy: 0.8363\n",
            "Epoch 3/200\n",
            "2513/2513 [==============================] - 69s 28ms/step - loss: 0.5102 - accuracy: 0.8300 - val_loss: 0.4365 - val_accuracy: 0.8575\n",
            "Epoch 4/200\n",
            "2513/2513 [==============================] - 69s 28ms/step - loss: 0.4559 - accuracy: 0.8482 - val_loss: 0.3929 - val_accuracy: 0.8703\n",
            "Epoch 5/200\n",
            "2513/2513 [==============================] - 69s 28ms/step - loss: 0.4211 - accuracy: 0.8592 - val_loss: 0.3634 - val_accuracy: 0.8790\n",
            "Epoch 6/200\n",
            "2513/2513 [==============================] - 69s 28ms/step - loss: 0.3957 - accuracy: 0.8685 - val_loss: 0.3413 - val_accuracy: 0.8856\n",
            "Epoch 7/200\n",
            "2513/2513 [==============================] - 69s 28ms/step - loss: 0.3768 - accuracy: 0.8748 - val_loss: 0.3271 - val_accuracy: 0.8923\n",
            "Epoch 8/200\n",
            "2513/2513 [==============================] - 69s 27ms/step - loss: 0.3595 - accuracy: 0.8808 - val_loss: 0.3104 - val_accuracy: 0.8983\n",
            "Epoch 9/200\n",
            "2513/2513 [==============================] - 69s 28ms/step - loss: 0.3464 - accuracy: 0.8854 - val_loss: 0.2980 - val_accuracy: 0.9011\n",
            "Epoch 10/200\n",
            "2513/2513 [==============================] - 69s 28ms/step - loss: 0.3353 - accuracy: 0.8898 - val_loss: 0.2881 - val_accuracy: 0.9058\n",
            "Epoch 11/200\n",
            "2513/2513 [==============================] - 69s 27ms/step - loss: 0.3255 - accuracy: 0.8934 - val_loss: 0.2784 - val_accuracy: 0.9077\n",
            "Epoch 12/200\n",
            "2513/2513 [==============================] - 69s 27ms/step - loss: 0.3171 - accuracy: 0.8959 - val_loss: 0.2711 - val_accuracy: 0.9112\n",
            "Epoch 13/200\n",
            "2513/2513 [==============================] - 69s 28ms/step - loss: 0.3095 - accuracy: 0.8983 - val_loss: 0.2644 - val_accuracy: 0.9137\n",
            "Epoch 14/200\n",
            "2513/2513 [==============================] - 69s 28ms/step - loss: 0.3030 - accuracy: 0.9016 - val_loss: 0.2584 - val_accuracy: 0.9154\n",
            "Epoch 15/200\n",
            "2513/2513 [==============================] - 69s 28ms/step - loss: 0.2969 - accuracy: 0.9036 - val_loss: 0.2523 - val_accuracy: 0.9175\n",
            "Epoch 16/200\n",
            "2513/2513 [==============================] - 69s 28ms/step - loss: 0.2915 - accuracy: 0.9051 - val_loss: 0.2466 - val_accuracy: 0.9198\n",
            "Epoch 17/200\n",
            "2513/2513 [==============================] - 69s 28ms/step - loss: 0.2850 - accuracy: 0.9076 - val_loss: 0.2414 - val_accuracy: 0.9223\n",
            "Epoch 18/200\n",
            "2513/2513 [==============================] - 69s 28ms/step - loss: 0.2814 - accuracy: 0.9089 - val_loss: 0.2379 - val_accuracy: 0.9235\n",
            "Epoch 19/200\n",
            "2513/2513 [==============================] - 69s 28ms/step - loss: 0.2771 - accuracy: 0.9104 - val_loss: 0.2324 - val_accuracy: 0.9244\n",
            "Epoch 20/200\n",
            "2513/2513 [==============================] - 69s 28ms/step - loss: 0.2709 - accuracy: 0.9123 - val_loss: 0.2280 - val_accuracy: 0.9264\n",
            "Epoch 21/200\n",
            "2513/2513 [==============================] - 69s 28ms/step - loss: 0.2670 - accuracy: 0.9137 - val_loss: 0.2246 - val_accuracy: 0.9274\n",
            "Epoch 22/200\n",
            "2513/2513 [==============================] - 69s 27ms/step - loss: 0.2626 - accuracy: 0.9154 - val_loss: 0.2205 - val_accuracy: 0.9283\n",
            "Epoch 23/200\n",
            "2513/2513 [==============================] - 69s 28ms/step - loss: 0.2595 - accuracy: 0.9170 - val_loss: 0.2170 - val_accuracy: 0.9297\n",
            "Epoch 24/200\n",
            "2513/2513 [==============================] - 69s 28ms/step - loss: 0.2552 - accuracy: 0.9181 - val_loss: 0.2129 - val_accuracy: 0.9313\n",
            "Epoch 25/200\n",
            "2513/2513 [==============================] - 69s 28ms/step - loss: 0.2508 - accuracy: 0.9195 - val_loss: 0.2104 - val_accuracy: 0.9325\n",
            "Epoch 26/200\n",
            "2513/2513 [==============================] - 69s 27ms/step - loss: 0.2486 - accuracy: 0.9202 - val_loss: 0.2072 - val_accuracy: 0.9338\n",
            "Epoch 27/200\n",
            "2513/2513 [==============================] - 69s 27ms/step - loss: 0.2446 - accuracy: 0.9210 - val_loss: 0.2039 - val_accuracy: 0.9343\n",
            "Epoch 28/200\n",
            "2513/2513 [==============================] - 69s 28ms/step - loss: 0.2435 - accuracy: 0.9215 - val_loss: 0.2012 - val_accuracy: 0.9359\n",
            "Epoch 29/200\n",
            "2513/2513 [==============================] - 69s 28ms/step - loss: 0.2392 - accuracy: 0.9235 - val_loss: 0.1983 - val_accuracy: 0.9354\n",
            "Epoch 30/200\n",
            "2513/2513 [==============================] - 69s 28ms/step - loss: 0.2368 - accuracy: 0.9235 - val_loss: 0.1965 - val_accuracy: 0.9382\n",
            "Epoch 31/200\n",
            "2513/2513 [==============================] - 69s 27ms/step - loss: 0.2340 - accuracy: 0.9249 - val_loss: 0.1927 - val_accuracy: 0.9389\n",
            "Epoch 32/200\n",
            "2513/2513 [==============================] - 69s 27ms/step - loss: 0.2315 - accuracy: 0.9261 - val_loss: 0.1896 - val_accuracy: 0.9402\n",
            "Epoch 33/200\n",
            "2513/2513 [==============================] - 69s 28ms/step - loss: 0.2286 - accuracy: 0.9269 - val_loss: 0.1887 - val_accuracy: 0.9407\n",
            "Epoch 34/200\n",
            "2513/2513 [==============================] - 69s 28ms/step - loss: 0.2259 - accuracy: 0.9277 - val_loss: 0.1867 - val_accuracy: 0.9404\n",
            "Epoch 35/200\n",
            "2513/2513 [==============================] - 70s 28ms/step - loss: 0.2251 - accuracy: 0.9278 - val_loss: 0.1836 - val_accuracy: 0.9410\n",
            "Epoch 36/200\n",
            "2513/2513 [==============================] - 69s 28ms/step - loss: 0.2226 - accuracy: 0.9284 - val_loss: 0.1814 - val_accuracy: 0.9426\n",
            "Epoch 37/200\n",
            "2513/2513 [==============================] - 69s 27ms/step - loss: 0.2195 - accuracy: 0.9293 - val_loss: 0.1792 - val_accuracy: 0.9431\n",
            "Epoch 38/200\n",
            "2513/2513 [==============================] - 69s 27ms/step - loss: 0.2184 - accuracy: 0.9307 - val_loss: 0.1780 - val_accuracy: 0.9437\n",
            "Epoch 39/200\n",
            "2513/2513 [==============================] - 69s 28ms/step - loss: 0.2160 - accuracy: 0.9309 - val_loss: 0.1753 - val_accuracy: 0.9448\n",
            "Epoch 40/200\n",
            "2513/2513 [==============================] - 69s 27ms/step - loss: 0.2151 - accuracy: 0.9315 - val_loss: 0.1731 - val_accuracy: 0.9452\n",
            "Epoch 41/200\n",
            "2513/2513 [==============================] - 69s 27ms/step - loss: 0.2126 - accuracy: 0.9317 - val_loss: 0.1720 - val_accuracy: 0.9456\n",
            "Epoch 42/200\n",
            "2513/2513 [==============================] - 69s 27ms/step - loss: 0.2110 - accuracy: 0.9323 - val_loss: 0.1711 - val_accuracy: 0.9458\n",
            "Epoch 43/200\n",
            "2513/2513 [==============================] - 69s 27ms/step - loss: 0.2105 - accuracy: 0.9330 - val_loss: 0.1689 - val_accuracy: 0.9465\n",
            "Epoch 44/200\n",
            "2513/2513 [==============================] - 69s 28ms/step - loss: 0.2077 - accuracy: 0.9341 - val_loss: 0.1677 - val_accuracy: 0.9467\n",
            "Epoch 45/200\n",
            "2513/2513 [==============================] - 69s 28ms/step - loss: 0.2073 - accuracy: 0.9339 - val_loss: 0.1663 - val_accuracy: 0.9476\n",
            "Epoch 46/200\n",
            "2513/2513 [==============================] - 69s 28ms/step - loss: 0.2049 - accuracy: 0.9344 - val_loss: 0.1638 - val_accuracy: 0.9478\n",
            "Epoch 47/200\n",
            "2513/2513 [==============================] - 69s 28ms/step - loss: 0.2036 - accuracy: 0.9349 - val_loss: 0.1620 - val_accuracy: 0.9487\n",
            "Epoch 48/200\n",
            "2513/2513 [==============================] - 69s 27ms/step - loss: 0.2028 - accuracy: 0.9351 - val_loss: 0.1636 - val_accuracy: 0.9483\n",
            "Epoch 49/200\n",
            "2513/2513 [==============================] - 69s 28ms/step - loss: 0.2011 - accuracy: 0.9356 - val_loss: 0.1598 - val_accuracy: 0.9500\n",
            "Epoch 50/200\n",
            "2513/2513 [==============================] - 69s 28ms/step - loss: 0.1997 - accuracy: 0.9358 - val_loss: 0.1589 - val_accuracy: 0.9494\n",
            "Epoch 51/200\n",
            "2513/2513 [==============================] - 69s 27ms/step - loss: 0.1993 - accuracy: 0.9365 - val_loss: 0.1576 - val_accuracy: 0.9502\n",
            "Epoch 52/200\n",
            "2513/2513 [==============================] - 69s 27ms/step - loss: 0.1967 - accuracy: 0.9372 - val_loss: 0.1565 - val_accuracy: 0.9505\n",
            "Epoch 53/200\n",
            "2513/2513 [==============================] - 69s 27ms/step - loss: 0.1952 - accuracy: 0.9373 - val_loss: 0.1542 - val_accuracy: 0.9515\n",
            "Epoch 54/200\n",
            "2513/2513 [==============================] - 69s 27ms/step - loss: 0.1927 - accuracy: 0.9381 - val_loss: 0.1566 - val_accuracy: 0.9502\n",
            "Epoch 55/200\n",
            "2513/2513 [==============================] - 69s 27ms/step - loss: 0.1929 - accuracy: 0.9386 - val_loss: 0.1529 - val_accuracy: 0.9520\n",
            "Epoch 56/200\n",
            "2513/2513 [==============================] - 69s 27ms/step - loss: 0.1919 - accuracy: 0.9386 - val_loss: 0.1512 - val_accuracy: 0.9521\n",
            "Epoch 57/200\n",
            "2513/2513 [==============================] - 69s 27ms/step - loss: 0.1912 - accuracy: 0.9393 - val_loss: 0.1508 - val_accuracy: 0.9522\n",
            "Epoch 58/200\n",
            "2513/2513 [==============================] - 69s 28ms/step - loss: 0.1898 - accuracy: 0.9397 - val_loss: 0.1495 - val_accuracy: 0.9518\n",
            "Epoch 59/200\n",
            "2513/2513 [==============================] - 69s 28ms/step - loss: 0.1878 - accuracy: 0.9399 - val_loss: 0.1487 - val_accuracy: 0.9528\n",
            "Epoch 60/200\n",
            "2513/2513 [==============================] - 69s 28ms/step - loss: 0.1856 - accuracy: 0.9403 - val_loss: 0.1473 - val_accuracy: 0.9537\n",
            "Epoch 61/200\n",
            "2513/2513 [==============================] - 69s 28ms/step - loss: 0.1868 - accuracy: 0.9392 - val_loss: 0.1476 - val_accuracy: 0.9532\n",
            "Epoch 62/200\n",
            "2513/2513 [==============================] - 69s 28ms/step - loss: 0.1850 - accuracy: 0.9409 - val_loss: 0.1452 - val_accuracy: 0.9543\n",
            "Epoch 63/200\n",
            "2513/2513 [==============================] - 69s 27ms/step - loss: 0.1830 - accuracy: 0.9415 - val_loss: 0.1440 - val_accuracy: 0.9549\n",
            "Epoch 64/200\n",
            "2513/2513 [==============================] - 69s 27ms/step - loss: 0.1841 - accuracy: 0.9409 - val_loss: 0.1435 - val_accuracy: 0.9553\n",
            "Epoch 65/200\n",
            "2513/2513 [==============================] - 69s 27ms/step - loss: 0.1819 - accuracy: 0.9411 - val_loss: 0.1439 - val_accuracy: 0.9553\n",
            "Epoch 66/200\n",
            "2513/2513 [==============================] - 69s 28ms/step - loss: 0.1818 - accuracy: 0.9420 - val_loss: 0.1422 - val_accuracy: 0.9546\n",
            "Epoch 67/200\n",
            "2513/2513 [==============================] - 69s 28ms/step - loss: 0.1803 - accuracy: 0.9426 - val_loss: 0.1411 - val_accuracy: 0.9559\n",
            "Epoch 68/200\n",
            "2513/2513 [==============================] - 69s 28ms/step - loss: 0.1798 - accuracy: 0.9422 - val_loss: 0.1399 - val_accuracy: 0.9566\n",
            "Epoch 69/200\n",
            "2513/2513 [==============================] - 69s 28ms/step - loss: 0.1773 - accuracy: 0.9432 - val_loss: 0.1397 - val_accuracy: 0.9565\n",
            "Epoch 70/200\n",
            "2513/2513 [==============================] - 69s 27ms/step - loss: 0.1774 - accuracy: 0.9432 - val_loss: 0.1393 - val_accuracy: 0.9574\n",
            "Epoch 71/200\n",
            "2513/2513 [==============================] - 69s 28ms/step - loss: 0.1765 - accuracy: 0.9434 - val_loss: 0.1392 - val_accuracy: 0.9561\n",
            "Epoch 72/200\n",
            "2513/2513 [==============================] - 69s 28ms/step - loss: 0.1765 - accuracy: 0.9433 - val_loss: 0.1371 - val_accuracy: 0.9583\n",
            "Epoch 73/200\n",
            "2513/2513 [==============================] - 69s 28ms/step - loss: 0.1754 - accuracy: 0.9435 - val_loss: 0.1369 - val_accuracy: 0.9568\n",
            "Epoch 74/200\n",
            "2513/2513 [==============================] - 69s 28ms/step - loss: 0.1746 - accuracy: 0.9440 - val_loss: 0.1359 - val_accuracy: 0.9573\n",
            "Epoch 75/200\n",
            "2513/2513 [==============================] - 69s 27ms/step - loss: 0.1752 - accuracy: 0.9443 - val_loss: 0.1353 - val_accuracy: 0.9573\n",
            "Epoch 76/200\n",
            "2513/2513 [==============================] - 69s 27ms/step - loss: 0.1726 - accuracy: 0.9442 - val_loss: 0.1336 - val_accuracy: 0.9579\n",
            "Epoch 77/200\n",
            "2513/2513 [==============================] - 69s 27ms/step - loss: 0.1730 - accuracy: 0.9442 - val_loss: 0.1344 - val_accuracy: 0.9578\n",
            "Epoch 78/200\n",
            "2513/2513 [==============================] - 69s 28ms/step - loss: 0.1704 - accuracy: 0.9450 - val_loss: 0.1322 - val_accuracy: 0.9577\n",
            "Epoch 79/200\n",
            "2513/2513 [==============================] - 69s 28ms/step - loss: 0.1705 - accuracy: 0.9446 - val_loss: 0.1327 - val_accuracy: 0.9580\n",
            "Epoch 80/200\n",
            "2513/2513 [==============================] - 69s 28ms/step - loss: 0.1673 - accuracy: 0.9467 - val_loss: 0.1303 - val_accuracy: 0.9589\n",
            "Epoch 81/200\n",
            "2513/2513 [==============================] - 69s 27ms/step - loss: 0.1700 - accuracy: 0.9458 - val_loss: 0.1313 - val_accuracy: 0.9581\n",
            "Epoch 82/200\n",
            "2513/2513 [==============================] - 69s 27ms/step - loss: 0.1699 - accuracy: 0.9457 - val_loss: 0.1310 - val_accuracy: 0.9587\n",
            "Epoch 83/200\n",
            "2513/2513 [==============================] - 69s 27ms/step - loss: 0.1675 - accuracy: 0.9461 - val_loss: 0.1300 - val_accuracy: 0.9587\n",
            "Epoch 84/200\n",
            "2513/2513 [==============================] - 69s 27ms/step - loss: 0.1665 - accuracy: 0.9465 - val_loss: 0.1283 - val_accuracy: 0.9596\n",
            "Epoch 85/200\n",
            "2513/2513 [==============================] - 69s 28ms/step - loss: 0.1652 - accuracy: 0.9468 - val_loss: 0.1289 - val_accuracy: 0.9590\n",
            "Epoch 86/200\n",
            "2513/2513 [==============================] - 69s 27ms/step - loss: 0.1651 - accuracy: 0.9469 - val_loss: 0.1273 - val_accuracy: 0.9596\n",
            "Epoch 87/200\n",
            "2513/2513 [==============================] - 69s 27ms/step - loss: 0.1645 - accuracy: 0.9477 - val_loss: 0.1275 - val_accuracy: 0.9599\n",
            "Epoch 88/200\n",
            "2513/2513 [==============================] - 69s 28ms/step - loss: 0.1633 - accuracy: 0.9482 - val_loss: 0.1260 - val_accuracy: 0.9598\n",
            "Epoch 89/200\n",
            "2513/2513 [==============================] - 69s 28ms/step - loss: 0.1630 - accuracy: 0.9477 - val_loss: 0.1264 - val_accuracy: 0.9604\n",
            "Epoch 90/200\n",
            "2513/2513 [==============================] - 69s 28ms/step - loss: 0.1641 - accuracy: 0.9473 - val_loss: 0.1251 - val_accuracy: 0.9598\n",
            "Epoch 91/200\n",
            "2513/2513 [==============================] - 69s 28ms/step - loss: 0.1624 - accuracy: 0.9477 - val_loss: 0.1250 - val_accuracy: 0.9603\n",
            "Epoch 92/200\n",
            "2513/2513 [==============================] - 69s 28ms/step - loss: 0.1613 - accuracy: 0.9478 - val_loss: 0.1242 - val_accuracy: 0.9603\n",
            "Epoch 93/200\n",
            "2513/2513 [==============================] - 69s 28ms/step - loss: 0.1610 - accuracy: 0.9480 - val_loss: 0.1234 - val_accuracy: 0.9609\n",
            "Epoch 94/200\n",
            "2513/2513 [==============================] - 69s 28ms/step - loss: 0.1601 - accuracy: 0.9485 - val_loss: 0.1235 - val_accuracy: 0.9605\n",
            "Epoch 95/200\n",
            "2513/2513 [==============================] - 69s 27ms/step - loss: 0.1606 - accuracy: 0.9479 - val_loss: 0.1218 - val_accuracy: 0.9614\n",
            "Epoch 96/200\n",
            "2513/2513 [==============================] - 69s 27ms/step - loss: 0.1596 - accuracy: 0.9489 - val_loss: 0.1229 - val_accuracy: 0.9605\n",
            "Epoch 97/200\n",
            "2513/2513 [==============================] - 69s 27ms/step - loss: 0.1576 - accuracy: 0.9495 - val_loss: 0.1218 - val_accuracy: 0.9623\n",
            "Epoch 98/200\n",
            "2513/2513 [==============================] - 69s 27ms/step - loss: 0.1588 - accuracy: 0.9484 - val_loss: 0.1224 - val_accuracy: 0.9615\n",
            "Epoch 99/200\n",
            "2513/2513 [==============================] - 69s 27ms/step - loss: 0.1575 - accuracy: 0.9489 - val_loss: 0.1194 - val_accuracy: 0.9613\n",
            "Epoch 100/200\n",
            "2513/2513 [==============================] - 69s 27ms/step - loss: 0.1559 - accuracy: 0.9500 - val_loss: 0.1204 - val_accuracy: 0.9621\n",
            "Epoch 101/200\n",
            "2513/2513 [==============================] - 69s 27ms/step - loss: 0.1573 - accuracy: 0.9492 - val_loss: 0.1199 - val_accuracy: 0.9612\n",
            "Epoch 102/200\n",
            "2513/2513 [==============================] - 69s 27ms/step - loss: 0.1563 - accuracy: 0.9497 - val_loss: 0.1197 - val_accuracy: 0.9622\n",
            "Epoch 103/200\n",
            "2513/2513 [==============================] - 69s 28ms/step - loss: 0.1568 - accuracy: 0.9497 - val_loss: 0.1197 - val_accuracy: 0.9627\n",
            "Epoch 104/200\n",
            "2513/2513 [==============================] - 69s 28ms/step - loss: 0.1563 - accuracy: 0.9499 - val_loss: 0.1183 - val_accuracy: 0.9627\n",
            "Epoch 105/200\n",
            "2513/2513 [==============================] - 69s 28ms/step - loss: 0.1559 - accuracy: 0.9502 - val_loss: 0.1191 - val_accuracy: 0.9627\n",
            "Epoch 106/200\n",
            "2513/2513 [==============================] - 69s 28ms/step - loss: 0.1543 - accuracy: 0.9502 - val_loss: 0.1167 - val_accuracy: 0.9629\n",
            "Epoch 107/200\n",
            "2513/2513 [==============================] - 69s 28ms/step - loss: 0.1537 - accuracy: 0.9503 - val_loss: 0.1164 - val_accuracy: 0.9628\n",
            "Epoch 108/200\n",
            "2513/2513 [==============================] - 69s 28ms/step - loss: 0.1535 - accuracy: 0.9506 - val_loss: 0.1161 - val_accuracy: 0.9626\n",
            "Epoch 109/200\n",
            "2513/2513 [==============================] - 69s 27ms/step - loss: 0.1530 - accuracy: 0.9506 - val_loss: 0.1156 - val_accuracy: 0.9631\n",
            "Epoch 110/200\n",
            "2513/2513 [==============================] - 69s 27ms/step - loss: 0.1518 - accuracy: 0.9511 - val_loss: 0.1149 - val_accuracy: 0.9635\n",
            "Epoch 111/200\n",
            "2513/2513 [==============================] - 69s 27ms/step - loss: 0.1518 - accuracy: 0.9512 - val_loss: 0.1142 - val_accuracy: 0.9637\n",
            "Epoch 112/200\n",
            "2513/2513 [==============================] - 69s 28ms/step - loss: 0.1518 - accuracy: 0.9512 - val_loss: 0.1137 - val_accuracy: 0.9645\n",
            "Epoch 113/200\n",
            "2513/2513 [==============================] - 69s 28ms/step - loss: 0.1507 - accuracy: 0.9514 - val_loss: 0.1138 - val_accuracy: 0.9635\n",
            "Epoch 114/200\n",
            "2513/2513 [==============================] - 69s 28ms/step - loss: 0.1516 - accuracy: 0.9514 - val_loss: 0.1136 - val_accuracy: 0.9647\n",
            "Epoch 115/200\n",
            "2513/2513 [==============================] - 69s 28ms/step - loss: 0.1497 - accuracy: 0.9515 - val_loss: 0.1126 - val_accuracy: 0.9640\n",
            "Epoch 116/200\n",
            "2513/2513 [==============================] - 69s 28ms/step - loss: 0.1487 - accuracy: 0.9520 - val_loss: 0.1120 - val_accuracy: 0.9639\n",
            "Epoch 117/200\n",
            "2513/2513 [==============================] - 69s 27ms/step - loss: 0.1494 - accuracy: 0.9518 - val_loss: 0.1118 - val_accuracy: 0.9651\n",
            "Epoch 118/200\n",
            "2513/2513 [==============================] - 69s 27ms/step - loss: 0.1485 - accuracy: 0.9516 - val_loss: 0.1127 - val_accuracy: 0.9629\n",
            "Epoch 119/200\n",
            "2513/2513 [==============================] - 69s 27ms/step - loss: 0.1476 - accuracy: 0.9522 - val_loss: 0.1114 - val_accuracy: 0.9637\n",
            "Epoch 120/200\n",
            "2513/2513 [==============================] - 69s 27ms/step - loss: 0.1483 - accuracy: 0.9519 - val_loss: 0.1114 - val_accuracy: 0.9649\n",
            "Epoch 121/200\n",
            "2513/2513 [==============================] - 69s 28ms/step - loss: 0.1483 - accuracy: 0.9524 - val_loss: 0.1115 - val_accuracy: 0.9642\n",
            "Epoch 122/200\n",
            "2513/2513 [==============================] - 69s 27ms/step - loss: 0.1481 - accuracy: 0.9520 - val_loss: 0.1099 - val_accuracy: 0.9645\n",
            "Epoch 123/200\n",
            "2513/2513 [==============================] - 69s 27ms/step - loss: 0.1465 - accuracy: 0.9529 - val_loss: 0.1109 - val_accuracy: 0.9651\n",
            "Epoch 124/200\n",
            "2513/2513 [==============================] - 69s 27ms/step - loss: 0.1455 - accuracy: 0.9527 - val_loss: 0.1092 - val_accuracy: 0.9653\n",
            "Epoch 125/200\n",
            "2513/2513 [==============================] - 69s 27ms/step - loss: 0.1462 - accuracy: 0.9523 - val_loss: 0.1078 - val_accuracy: 0.9655\n",
            "Epoch 126/200\n",
            "2513/2513 [==============================] - 69s 27ms/step - loss: 0.1452 - accuracy: 0.9528 - val_loss: 0.1093 - val_accuracy: 0.9645\n",
            "Epoch 127/200\n",
            "2513/2513 [==============================] - 69s 27ms/step - loss: 0.1453 - accuracy: 0.9534 - val_loss: 0.1082 - val_accuracy: 0.9650\n",
            "Epoch 128/200\n",
            "2513/2513 [==============================] - 69s 27ms/step - loss: 0.1466 - accuracy: 0.9531 - val_loss: 0.1083 - val_accuracy: 0.9646\n",
            "Epoch 129/200\n",
            "2513/2513 [==============================] - 69s 27ms/step - loss: 0.1452 - accuracy: 0.9534 - val_loss: 0.1070 - val_accuracy: 0.9652\n",
            "Epoch 130/200\n",
            "2513/2513 [==============================] - 69s 28ms/step - loss: 0.1434 - accuracy: 0.9537 - val_loss: 0.1073 - val_accuracy: 0.9652\n",
            "Epoch 131/200\n",
            "2513/2513 [==============================] - 69s 28ms/step - loss: 0.1448 - accuracy: 0.9536 - val_loss: 0.1065 - val_accuracy: 0.9661\n",
            "Epoch 132/200\n",
            "2513/2513 [==============================] - 69s 28ms/step - loss: 0.1436 - accuracy: 0.9534 - val_loss: 0.1056 - val_accuracy: 0.9663\n",
            "Epoch 133/200\n",
            "2513/2513 [==============================] - 69s 27ms/step - loss: 0.1425 - accuracy: 0.9536 - val_loss: 0.1065 - val_accuracy: 0.9655\n",
            "Epoch 134/200\n",
            "2513/2513 [==============================] - 69s 28ms/step - loss: 0.1427 - accuracy: 0.9535 - val_loss: 0.1053 - val_accuracy: 0.9664\n",
            "Epoch 135/200\n",
            "2513/2513 [==============================] - 69s 27ms/step - loss: 0.1429 - accuracy: 0.9537 - val_loss: 0.1056 - val_accuracy: 0.9659\n",
            "Epoch 136/200\n",
            "2513/2513 [==============================] - 69s 27ms/step - loss: 0.1411 - accuracy: 0.9541 - val_loss: 0.1045 - val_accuracy: 0.9661\n",
            "Epoch 137/200\n",
            "2513/2513 [==============================] - 69s 27ms/step - loss: 0.1404 - accuracy: 0.9545 - val_loss: 0.1036 - val_accuracy: 0.9679\n",
            "Epoch 138/200\n",
            "2513/2513 [==============================] - 70s 28ms/step - loss: 0.1411 - accuracy: 0.9538 - val_loss: 0.1055 - val_accuracy: 0.9660\n",
            "Epoch 139/200\n",
            "2513/2513 [==============================] - 69s 28ms/step - loss: 0.1409 - accuracy: 0.9546 - val_loss: 0.1039 - val_accuracy: 0.9667\n",
            "Epoch 140/200\n",
            "2513/2513 [==============================] - 69s 28ms/step - loss: 0.1419 - accuracy: 0.9545 - val_loss: 0.1042 - val_accuracy: 0.9671\n",
            "Epoch 141/200\n",
            "2513/2513 [==============================] - 69s 27ms/step - loss: 0.1409 - accuracy: 0.9538 - val_loss: 0.1030 - val_accuracy: 0.9668\n",
            "Epoch 142/200\n",
            "2513/2513 [==============================] - 70s 28ms/step - loss: 0.1386 - accuracy: 0.9547 - val_loss: 0.1023 - val_accuracy: 0.9675\n",
            "Epoch 143/200\n",
            "2513/2513 [==============================] - 69s 27ms/step - loss: 0.1387 - accuracy: 0.9550 - val_loss: 0.1027 - val_accuracy: 0.9678\n",
            "Epoch 144/200\n",
            "2513/2513 [==============================] - 69s 28ms/step - loss: 0.1391 - accuracy: 0.9546 - val_loss: 0.1019 - val_accuracy: 0.9680\n",
            "Epoch 145/200\n",
            "2513/2513 [==============================] - 69s 27ms/step - loss: 0.1384 - accuracy: 0.9555 - val_loss: 0.1020 - val_accuracy: 0.9679\n",
            "Epoch 146/200\n",
            "2513/2513 [==============================] - 69s 27ms/step - loss: 0.1381 - accuracy: 0.9558 - val_loss: 0.1015 - val_accuracy: 0.9671\n",
            "Epoch 147/200\n",
            "2513/2513 [==============================] - 69s 27ms/step - loss: 0.1383 - accuracy: 0.9551 - val_loss: 0.1023 - val_accuracy: 0.9668\n",
            "Epoch 148/200\n",
            "2513/2513 [==============================] - 69s 27ms/step - loss: 0.1362 - accuracy: 0.9558 - val_loss: 0.1010 - val_accuracy: 0.9682\n",
            "Epoch 149/200\n",
            "2513/2513 [==============================] - 69s 27ms/step - loss: 0.1377 - accuracy: 0.9549 - val_loss: 0.1002 - val_accuracy: 0.9677\n",
            "Epoch 150/200\n",
            "2513/2513 [==============================] - 69s 27ms/step - loss: 0.1365 - accuracy: 0.9555 - val_loss: 0.0996 - val_accuracy: 0.9683\n",
            "Epoch 151/200\n",
            "2513/2513 [==============================] - 69s 28ms/step - loss: 0.1372 - accuracy: 0.9558 - val_loss: 0.1005 - val_accuracy: 0.9682\n",
            "Epoch 152/200\n",
            "2513/2513 [==============================] - 69s 28ms/step - loss: 0.1377 - accuracy: 0.9556 - val_loss: 0.1001 - val_accuracy: 0.9683\n",
            "Epoch 153/200\n",
            "2513/2513 [==============================] - 69s 27ms/step - loss: 0.1378 - accuracy: 0.9558 - val_loss: 0.0997 - val_accuracy: 0.9679\n",
            "Epoch 154/200\n",
            "2513/2513 [==============================] - 69s 27ms/step - loss: 0.1365 - accuracy: 0.9551 - val_loss: 0.0991 - val_accuracy: 0.9687\n",
            "Epoch 155/200\n",
            "2513/2513 [==============================] - 69s 27ms/step - loss: 0.1363 - accuracy: 0.9558 - val_loss: 0.0996 - val_accuracy: 0.9684\n",
            "Epoch 156/200\n",
            "2513/2513 [==============================] - 69s 27ms/step - loss: 0.1358 - accuracy: 0.9557 - val_loss: 0.0987 - val_accuracy: 0.9692\n",
            "Epoch 157/200\n",
            "2513/2513 [==============================] - 69s 27ms/step - loss: 0.1338 - accuracy: 0.9567 - val_loss: 0.1008 - val_accuracy: 0.9680\n",
            "Epoch 158/200\n",
            "2513/2513 [==============================] - 69s 27ms/step - loss: 0.1336 - accuracy: 0.9565 - val_loss: 0.0989 - val_accuracy: 0.9690\n",
            "Epoch 159/200\n",
            "2513/2513 [==============================] - 69s 27ms/step - loss: 0.1346 - accuracy: 0.9562 - val_loss: 0.0988 - val_accuracy: 0.9691\n",
            "Epoch 160/200\n",
            "2513/2513 [==============================] - 69s 27ms/step - loss: 0.1348 - accuracy: 0.9564 - val_loss: 0.0976 - val_accuracy: 0.9689\n",
            "Epoch 161/200\n",
            "2513/2513 [==============================] - 69s 27ms/step - loss: 0.1356 - accuracy: 0.9557 - val_loss: 0.0966 - val_accuracy: 0.9697\n",
            "Epoch 162/200\n",
            "2513/2513 [==============================] - 69s 27ms/step - loss: 0.1333 - accuracy: 0.9564 - val_loss: 0.0961 - val_accuracy: 0.9699\n",
            "Epoch 163/200\n",
            "2513/2513 [==============================] - 69s 27ms/step - loss: 0.1333 - accuracy: 0.9566 - val_loss: 0.0955 - val_accuracy: 0.9699\n",
            "Epoch 164/200\n",
            "2513/2513 [==============================] - 69s 27ms/step - loss: 0.1325 - accuracy: 0.9565 - val_loss: 0.0971 - val_accuracy: 0.9692\n",
            "Epoch 165/200\n",
            "2513/2513 [==============================] - 69s 27ms/step - loss: 0.1326 - accuracy: 0.9575 - val_loss: 0.0964 - val_accuracy: 0.9697\n",
            "Epoch 166/200\n",
            "2513/2513 [==============================] - 69s 27ms/step - loss: 0.1312 - accuracy: 0.9569 - val_loss: 0.0951 - val_accuracy: 0.9700\n",
            "Epoch 167/200\n",
            "2513/2513 [==============================] - 69s 27ms/step - loss: 0.1326 - accuracy: 0.9567 - val_loss: 0.0954 - val_accuracy: 0.9696\n",
            "Epoch 168/200\n",
            "2513/2513 [==============================] - 69s 27ms/step - loss: 0.1320 - accuracy: 0.9572 - val_loss: 0.0949 - val_accuracy: 0.9701\n",
            "Epoch 169/200\n",
            "2513/2513 [==============================] - 69s 27ms/step - loss: 0.1312 - accuracy: 0.9571 - val_loss: 0.0964 - val_accuracy: 0.9691\n",
            "Epoch 170/200\n",
            "2513/2513 [==============================] - 69s 27ms/step - loss: 0.1312 - accuracy: 0.9571 - val_loss: 0.0944 - val_accuracy: 0.9697\n",
            "Epoch 171/200\n",
            "2513/2513 [==============================] - 69s 27ms/step - loss: 0.1316 - accuracy: 0.9569 - val_loss: 0.0936 - val_accuracy: 0.9696\n",
            "Epoch 172/200\n",
            "2513/2513 [==============================] - 69s 27ms/step - loss: 0.1307 - accuracy: 0.9576 - val_loss: 0.0941 - val_accuracy: 0.9700\n",
            "Epoch 173/200\n",
            "2513/2513 [==============================] - 69s 27ms/step - loss: 0.1308 - accuracy: 0.9571 - val_loss: 0.0953 - val_accuracy: 0.9705\n",
            "Epoch 174/200\n",
            "2513/2513 [==============================] - 69s 27ms/step - loss: 0.1311 - accuracy: 0.9576 - val_loss: 0.0929 - val_accuracy: 0.9709\n",
            "Epoch 175/200\n",
            "2513/2513 [==============================] - 69s 27ms/step - loss: 0.1311 - accuracy: 0.9569 - val_loss: 0.0946 - val_accuracy: 0.9693\n",
            "Epoch 176/200\n",
            "2513/2513 [==============================] - 69s 27ms/step - loss: 0.1300 - accuracy: 0.9576 - val_loss: 0.0924 - val_accuracy: 0.9708\n",
            "Epoch 177/200\n",
            "2513/2513 [==============================] - 69s 27ms/step - loss: 0.1289 - accuracy: 0.9580 - val_loss: 0.0935 - val_accuracy: 0.9712\n",
            "Epoch 178/200\n",
            "2513/2513 [==============================] - 69s 27ms/step - loss: 0.1281 - accuracy: 0.9578 - val_loss: 0.0924 - val_accuracy: 0.9705\n",
            "Epoch 179/200\n",
            "2513/2513 [==============================] - 69s 27ms/step - loss: 0.1281 - accuracy: 0.9585 - val_loss: 0.0924 - val_accuracy: 0.9705\n",
            "Epoch 180/200\n",
            "2513/2513 [==============================] - 69s 27ms/step - loss: 0.1292 - accuracy: 0.9577 - val_loss: 0.0927 - val_accuracy: 0.9704\n",
            "Epoch 181/200\n",
            "2513/2513 [==============================] - 69s 28ms/step - loss: 0.1296 - accuracy: 0.9578 - val_loss: 0.0913 - val_accuracy: 0.9715\n",
            "Epoch 182/200\n",
            "2513/2513 [==============================] - 69s 27ms/step - loss: 0.1282 - accuracy: 0.9582 - val_loss: 0.0916 - val_accuracy: 0.9713\n",
            "Epoch 183/200\n",
            "2513/2513 [==============================] - 69s 27ms/step - loss: 0.1276 - accuracy: 0.9580 - val_loss: 0.0920 - val_accuracy: 0.9711\n",
            "Epoch 184/200\n",
            "2513/2513 [==============================] - 69s 27ms/step - loss: 0.1286 - accuracy: 0.9583 - val_loss: 0.0908 - val_accuracy: 0.9716\n",
            "Epoch 185/200\n",
            "2513/2513 [==============================] - 69s 27ms/step - loss: 0.1271 - accuracy: 0.9583 - val_loss: 0.0910 - val_accuracy: 0.9709\n",
            "Epoch 186/200\n",
            "2513/2513 [==============================] - 69s 27ms/step - loss: 0.1273 - accuracy: 0.9585 - val_loss: 0.0900 - val_accuracy: 0.9711\n",
            "Epoch 187/200\n",
            "2513/2513 [==============================] - 69s 27ms/step - loss: 0.1274 - accuracy: 0.9589 - val_loss: 0.0895 - val_accuracy: 0.9709\n",
            "Epoch 188/200\n",
            "2513/2513 [==============================] - 69s 27ms/step - loss: 0.1273 - accuracy: 0.9582 - val_loss: 0.0898 - val_accuracy: 0.9711\n",
            "Epoch 189/200\n",
            "2513/2513 [==============================] - 69s 27ms/step - loss: 0.1265 - accuracy: 0.9588 - val_loss: 0.0905 - val_accuracy: 0.9714\n",
            "Epoch 190/200\n",
            "2513/2513 [==============================] - 69s 27ms/step - loss: 0.1252 - accuracy: 0.9589 - val_loss: 0.0893 - val_accuracy: 0.9720\n",
            "Epoch 191/200\n",
            "2513/2513 [==============================] - 69s 27ms/step - loss: 0.1263 - accuracy: 0.9587 - val_loss: 0.0895 - val_accuracy: 0.9713\n",
            "Epoch 192/200\n",
            "2513/2513 [==============================] - 69s 27ms/step - loss: 0.1278 - accuracy: 0.9584 - val_loss: 0.0887 - val_accuracy: 0.9721\n",
            "Epoch 193/200\n",
            "2513/2513 [==============================] - 69s 27ms/step - loss: 0.1255 - accuracy: 0.9587 - val_loss: 0.0891 - val_accuracy: 0.9715\n",
            "Epoch 194/200\n",
            "2513/2513 [==============================] - 69s 27ms/step - loss: 0.1250 - accuracy: 0.9590 - val_loss: 0.0888 - val_accuracy: 0.9728\n",
            "Epoch 195/200\n",
            "2513/2513 [==============================] - 69s 27ms/step - loss: 0.1262 - accuracy: 0.9590 - val_loss: 0.0882 - val_accuracy: 0.9715\n",
            "Epoch 196/200\n",
            "2513/2513 [==============================] - 69s 27ms/step - loss: 0.1262 - accuracy: 0.9587 - val_loss: 0.0900 - val_accuracy: 0.9716\n",
            "Epoch 197/200\n",
            "2513/2513 [==============================] - 69s 27ms/step - loss: 0.1249 - accuracy: 0.9595 - val_loss: 0.0879 - val_accuracy: 0.9717\n",
            "Epoch 198/200\n",
            "2513/2513 [==============================] - 69s 27ms/step - loss: 0.1253 - accuracy: 0.9586 - val_loss: 0.0887 - val_accuracy: 0.9709\n",
            "Epoch 199/200\n",
            "2513/2513 [==============================] - 69s 27ms/step - loss: 0.1235 - accuracy: 0.9596 - val_loss: 0.0894 - val_accuracy: 0.9723\n",
            "Epoch 200/200\n",
            "2513/2513 [==============================] - 69s 27ms/step - loss: 0.1242 - accuracy: 0.9592 - val_loss: 0.0877 - val_accuracy: 0.9718\n"
          ]
        }
      ]
    },
    {
      "cell_type": "markdown",
      "source": [
        "<mark>Evaluation process</mark>\n",
        "\n",
        "\n",
        "During the evaluation of the classification task, several metrics such as loss, accuracy, f1-score, precision, and recall have been utilized. The confusion matrix has also been employed to gain insights into the classification process.\n",
        "\n",
        "The dataset used for this classification task is imbalanced, with class 0 having over 70,000 images out of a training set containing approximately 87,000 images. While achieving a high overall accuracy is possible due to the dominance of class 0, a closer examination of the other metrics may reveal that the model's performance is not satisfactory, particularly for categories with fewer data samples. \n",
        "\n",
        "\n",
        "In the task of detecting abnormal heartbeats, recall carries more weight or importance. The reason is that the cost or potential consequences associated with incorrectly classifying an abnormal heartbeat as normal (false negative) can be higher and more critical than misclassifying a normal heartbeat as abnormal (false positive).\n",
        "\n",
        "Detecting abnormal heartbeats accurately is crucial for identifying potential cardiac conditions or abnormalities that require medical attention. A false negative, where an abnormal heartbeat is incorrectly classified as normal, could lead to a missed diagnosis or delayed treatment, which can have serious implications for the patient's health.\n",
        "\n",
        "On the other hand, a false positive, where a normal heartbeat is incorrectly classified as abnormal, may result in further diagnostic tests or unnecessary medical interventions. While false positives can lead to additional costs and inconveniences, they are generally considered less severe than false negatives in this specific context.\n"
      ],
      "metadata": {
        "id": "mdcgd7-H7ptF"
      }
    },
    {
      "cell_type": "code",
      "source": [
        "model.evaluate(x_test, y_test, verbose=1)"
      ],
      "metadata": {
        "colab": {
          "base_uri": "https://localhost:8080/"
        },
        "id": "eFIqTdMTIxRa",
        "outputId": "54de0ec2-fa2d-4e78-e217-c193472b3b45"
      },
      "execution_count": null,
      "outputs": [
        {
          "output_type": "stream",
          "name": "stdout",
          "text": [
            "685/685 [==============================] - 4s 6ms/step - loss: 0.1220 - accuracy: 0.9697\n"
          ]
        },
        {
          "output_type": "execute_result",
          "data": {
            "text/plain": [
              "[0.1219581887125969, 0.9696692824363708]"
            ]
          },
          "metadata": {},
          "execution_count": 8
        }
      ]
    },
    {
      "cell_type": "code",
      "source": [
        "show_learning_curves(history)"
      ],
      "metadata": {
        "colab": {
          "base_uri": "https://localhost:8080/",
          "height": 601
        },
        "id": "bLiGF4BvI0WH",
        "outputId": "dd9580b5-1b64-4b5f-c731-e64604172b9f"
      },
      "execution_count": null,
      "outputs": [
        {
          "output_type": "display_data",
          "data": {
            "text/plain": [
              "<Figure size 1200x600 with 2 Axes>"
            ],
            "image/png": "[encoded data removed]"
          },
          "metadata": {}
        }
      ]
    },
    {
      "cell_type": "code",
      "source": [
        "predictions = np.argmax(model.predict(x_test), axis=1)\n",
        "cm = create_confusion_matrix(y_test, predictions)"
      ],
      "metadata": {
        "colab": {
          "base_uri": "https://localhost:8080/"
        },
        "id": "2li9MaM-I4gl",
        "outputId": "d22a4acd-96a3-443c-cadf-2e047af3cfdd"
      },
      "execution_count": null,
      "outputs": [
        {
          "output_type": "stream",
          "name": "stdout",
          "text": [
            "685/685 [==============================] - 3s 4ms/step\n",
            "Confusion Matrix:\n",
            "╒═════════╤═══════════╤═══════════╤═══════════╤═══════════╤═══════════╕\n",
            "│         │   Class 0 │   Class 1 │   Class 2 │   Class 3 │   Class 4 │\n",
            "╞═════════╪═══════════╪═══════════╪═══════════╪═══════════╪═══════════╡\n",
            "│ Class 0 │     17747 │       136 │       149 │        28 │        58 │\n",
            "├─────────┼───────────┼───────────┼───────────┼───────────┼───────────┤\n",
            "│ Class 1 │       139 │       401 │        13 │         1 │         2 │\n",
            "├─────────┼───────────┼───────────┼───────────┼───────────┼───────────┤\n",
            "│ Class 2 │        42 │         5 │      1379 │        19 │         3 │\n",
            "├─────────┼───────────┼───────────┼───────────┼───────────┼───────────┤\n",
            "│ Class 3 │        19 │         0 │        17 │       126 │         0 │\n",
            "├─────────┼───────────┼───────────┼───────────┼───────────┼───────────┤\n",
            "│ Class 4 │        18 │         4 │        10 │         1 │      1575 │\n",
            "╘═════════╧═══════════╧═══════════╧═══════════╧═══════════╧═══════════╛\n"
          ]
        }
      ]
    },
    {
      "cell_type": "markdown",
      "source": [
        "In the provided analysis, we can observe the performance of our model for each individual class. The top table reveals that there is potential for enhancing the model's predictions in categories with a smaller number of samples. This indicates that further improvements can be made to increase the accuracy and precision in those specific classes."
      ],
      "metadata": {
        "id": "RiUOKVxIHdKL"
      }
    },
    {
      "cell_type": "code",
      "source": [
        "overall_metrics, class_metrics = metrics_calculation(y_test, predictions)"
      ],
      "metadata": {
        "id": "VG-Dv228I7Hn"
      },
      "execution_count": null,
      "outputs": []
    },
    {
      "cell_type": "code",
      "source": [
        "print(overall_metrics)"
      ],
      "metadata": {
        "colab": {
          "base_uri": "https://localhost:8080/"
        },
        "id": "GKVmFrs5Krao",
        "outputId": "1de27259-6727-4f32-c938-25ae36439def"
      },
      "execution_count": null,
      "outputs": [
        {
          "output_type": "stream",
          "name": "stdout",
          "text": [
            "{'precision': 0.9703428578538876, 'recall': 0.9696692855837749, 'f1': 0.9698796732742205}\n"
          ]
        }
      ]
    },
    {
      "cell_type": "code",
      "source": [
        "from prettytable import PrettyTable\n",
        "\n",
        "# Create a table\n",
        "table = PrettyTable()\n",
        "table.field_names = list(class_metrics.keys())\n",
        "\n",
        "# Find the maximum length of the arrays\n",
        "max_length = max([len(arr) for arr in class_metrics.values()])\n",
        "\n",
        "# Add rows to the table\n",
        "for i in range(max_length):\n",
        "    row = [f'{arr[i]:.3f}' if i < len(arr) else '-' for arr in class_metrics.values()]\n",
        "    table.add_row(row)\n",
        "\n",
        "# Print the table\n",
        "print(table)"
      ],
      "metadata": {
        "colab": {
          "base_uri": "https://localhost:8080/"
        },
        "id": "TiTcb7iBrRWp",
        "outputId": "b07603db-a510-445a-e5e7-4646415fab42"
      },
      "execution_count": null,
      "outputs": [
        {
          "output_type": "stream",
          "name": "stdout",
          "text": [
            "+-----------+--------+-------+\n",
            "| precision | recall |   f1  |\n",
            "+-----------+--------+-------+\n",
            "|   0.988   | 0.980  | 0.984 |\n",
            "|   0.734   | 0.721  | 0.728 |\n",
            "|   0.879   | 0.952  | 0.914 |\n",
            "|   0.720   | 0.778  | 0.748 |\n",
            "|   0.962   | 0.979  | 0.970 |\n",
            "+-----------+--------+-------+\n"
          ]
        }
      ]
    },
    {
      "cell_type": "markdown",
      "source": [
        "Checking other metrics for each categories and the overal result. as indicated before, we are more interested in improving the recall as the cost associated with the false negative is higher."
      ],
      "metadata": {
        "id": "BNnjactdIP6I"
      }
    },
    {
      "cell_type": "markdown",
      "source": [
        "<mark>(Optional) Testing holdout set</mark>\n",
        "\n",
        "I have allocated 10% of the training dataset as a holdout set for testing purposes (it is different from validation or test set). To ensure a representative sample from each class, I applied the stratify technique during the split, considering the dataset's imbalanced nature. This approach helped me obtain an adequate number of samples from each class for reliable evaluation.\n",
        "\n",
        "I introduced noise to the holdout set as an independent evaluation measure. The purpose of this noise addition was to simulate real-world scenarios and assess the model's robustness and generalization capabilities. \n",
        "\n",
        "It is important to note that the noise added to the holdout set was not utilized in the model training or data augmentation processes. Instead, it served as a means to evaluate the model's performance on data that includes additional variations beyond what was encountered during training. This allowed for a more comprehensive assessment of the model's ability to generalize and perform well in real-world scenarios where noise or other forms of variability may be present.\n",
        "\n",
        "By incorporating similar variations utilized during training on the holdout set, the model's generalization would be better than when introducing new variations to the dataset.\n",
        "\n",
        "However, we observe that the evaluation result over the holdout set is also giving us a good result which indicated a good generalization of the model."
      ],
      "metadata": {
        "id": "Nsud6BjL8LPp"
      }
    },
    {
      "cell_type": "code",
      "source": [
        "model.evaluate(x_holdout, y_holdout, verbose=1)"
      ],
      "metadata": {
        "colab": {
          "base_uri": "https://localhost:8080/"
        },
        "id": "W8j-AfNcU_4x",
        "outputId": "ad34f0b9-1a8b-4f97-8581-9a7342e58e1c"
      },
      "execution_count": 9,
      "outputs": [
        {
          "output_type": "stream",
          "name": "stdout",
          "text": [
            "274/274 [==============================] - 2s 6ms/step - loss: 0.1164 - accuracy: 0.9686\n"
          ]
        },
        {
          "output_type": "execute_result",
          "data": {
            "text/plain": [
              "[0.11636000126600266, 0.9685929417610168]"
            ]
          },
          "metadata": {},
          "execution_count": 9
        }
      ]
    },
    {
      "cell_type": "code",
      "source": [
        "# model.save('/content/drive/MyDrive/modelECG.h5')"
      ],
      "metadata": {
        "id": "0OHf4QA-qgvJ"
      },
      "execution_count": null,
      "outputs": []
    }
  ],
  "metadata": {
    "kernelspec": {
      "display_name": "Python 3",
      "name": "python3"
    },
    "language_info": {
      "codemirror_mode": {
        "name": "ipython",
        "version": 3
      },
      "file_extension": ".py",
      "mimetype": "text/x-python",
      "name": "python",
      "nbconvert_exporter": "python",
      "pygments_lexer": "ipython3",
      "version": "3.7.8"
    },
    "orig_nbformat": 4,
    "colab": {
      "provenance": [],
      "machine_shape": "hm",
      "gpuType": "A100"
    },
    "accelerator": "GPU"
  },
  "nbformat": 4,
  "nbformat_minor": 0
}